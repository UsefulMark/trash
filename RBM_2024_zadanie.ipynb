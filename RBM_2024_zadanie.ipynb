{
 "cells": [
  {
   "cell_type": "markdown",
   "id": "1a28426c",
   "metadata": {},
   "source": [
    "Stwórz funkcję o nazwie 'Bernoullie', przyjmującą jeden parameter 'p', floata z przedziału od 0 do 1.\n",
    "Funkcja ma realziwoać rozkład zero-jedynkowy, czyli zwracać wartość 1 z prawdopodbieństwem 'p', a 0 z prawdopodobieństwem '1-p'."
   ]
  },
  {
   "cell_type": "code",
   "execution_count": 4,
   "id": "b8aa09a5",
   "metadata": {},
   "outputs": [],
   "source": [
    "import numpy as np\n",
    "import random\n",
    "def Bernoullie(p):\n",
    "    if not 0 <= p <= 1:\n",
    "        raise ValueError(\"Parameter 'p' must be a float between 0 and 1.\")\n",
    "    return 1 if random.random() < p else 0"
   ]
  },
  {
   "cell_type": "markdown",
   "id": "09a4fb69",
   "metadata": {},
   "source": [
    "Sprawdź czy funkcja działa zgodnie z oczekiwaniami."
   ]
  },
  {
   "cell_type": "code",
   "execution_count": 7,
   "id": "9e2ca30e",
   "metadata": {},
   "outputs": [
    {
     "data": {
      "text/plain": [
       "0.1978"
      ]
     },
     "execution_count": 7,
     "metadata": {},
     "output_type": "execute_result"
    }
   ],
   "source": [
    "ile = 5000\n",
    "sum([Bernoullie(0.2) for i in range(ile)])/ile"
   ]
  },
  {
   "cell_type": "markdown",
   "id": "99470f38",
   "metadata": {},
   "source": [
    "Stwórz klasę RBM, która ma implementować Ograniczoną Maszynę Boltzmanna. Konstuktor powineine przyjąć dwa parametry 'no_v' i 'no_h' określające odpowiednio liczbę neuronów w warstwie widocznej i ukrytej. Zaininciuj odpowiednie wagi."
   ]
  },
  {
   "cell_type": "code",
   "execution_count": 8,
   "id": "cdcc116e",
   "metadata": {},
   "outputs": [],
   "source": [
    "class RBM:\n",
    "    def __init__(self, no_v, no_h):\n",
    "        self.wagi = np.random.random((no_v, no_h))\n",
    "        self.b = np.random.random(no_v)\n",
    "        self.c = np.random.random(no_h)"
   ]
  },
  {
   "cell_type": "markdown",
   "id": "3ee78fd2",
   "metadata": {},
   "source": [
    "Napisz metodę aktywacji warstwy ukrytej 'activate_hidden_layer'. Metoda na wejście ma przyjmować wartości tablicę warstwy widocznej 'v'. Meotda ma zwracać tablicę realizacji aktywacji neuronów warstwy ukrytej oraz tablicę prawdopodobieństw tej aktywacji."
   ]
  },
  {
   "cell_type": "code",
   "execution_count": 9,
   "id": "6974a7dd",
   "metadata": {},
   "outputs": [],
   "source": [
    "class RBM:\n",
    "    def __init__(self, no_v, no_h):\n",
    "        self.wagi = np.random.random((no_v, no_h))\n",
    "        self.b = np.random.random(no_v)\n",
    "        self.c = np.random.random(no_h)\n",
    "        \n",
    "    def activate_hidden_layer(self, v):\n",
    "    \n",
    "        probabilities = 1 / (1 + np.exp(-np.dot(v, self.wagi) - self.c))\n",
    "        activations = np.array([self.Bernoullie(p) for p in probabilities])\n",
    "        \n",
    "        return activations, probabilities"
   ]
  },
  {
   "cell_type": "markdown",
   "id": "68219baa",
   "metadata": {},
   "source": [
    "Napisz analogiczną metodę do aktywacji warstwy widocznej 'activate_visible_layer'."
   ]
  },
  {
   "cell_type": "code",
   "execution_count": 16,
   "id": "d92a7c1f",
   "metadata": {},
   "outputs": [],
   "source": [
    "\n",
    "def sigmoid(s):\n",
    "    return 1 / (1 + np.exp(-s))\n",
    "\n",
    "class RBM:\n",
    "    def __init__(self, no_v, no_h):\n",
    "        self.wagi = np.random.random((no_v, no_h))\n",
    "        self.b = np.random.random(no_v)\n",
    "        self.c = np.random.random(no_h)\n",
    "    \n",
    "    def Bernoullie(self, p):\n",
    "        return 1 if np.random.random() < p else 0\n",
    "    \n",
    "    def activate_hidden_layer(self, v):\n",
    "        probabilities = 1 / (1 + np.exp(-np.dot(v, self.wagi) - self.c))\n",
    "        activations = np.array([self.Bernoullie(p) for p in probabilities])\n",
    "        \n",
    "        return activations, probabilities\n",
    "\n",
    "    def activate_visible_layer(self, h):\n",
    "        probabilities = 1 / (1 + np.exp(-np.dot(h, self.wagi.T) - self.b))\n",
    "        activations = np.array([self.Bernoullie(p) for p in probabilities])\n",
    "        return activations, probabilities"
   ]
  },
  {
   "cell_type": "markdown",
   "id": "0ab88425",
   "metadata": {},
   "source": [
    "Sprawdź czy warstwy działają tak jak tego oczekujemy."
   ]
  },
  {
   "cell_type": "code",
   "execution_count": 18,
   "id": "7ecce23f",
   "metadata": {},
   "outputs": [
    {
     "data": {
      "text/plain": [
       "(array([1, 1]), array([0.79411686, 0.79449104]))"
      ]
     },
     "execution_count": 18,
     "metadata": {},
     "output_type": "execute_result"
    }
   ],
   "source": [
    "model = RBM(3,2)\n",
    "model.activate_hidden_layer([1,1,1])"
   ]
  },
  {
   "cell_type": "markdown",
   "id": "ca8dd217",
   "metadata": {},
   "source": [
    "Napisz metodę rezalizującą metodę contrastive divergence. Metoda ma jako parametry przyjmować zbiór elementów (mini-batch) oznaczony X oraz liczbę iteracji algorytmu (k). Metoda ma zwracać 6 wartości. Mają to być odpowiednio dla  tablicy wag, biasu warstwy widocznej i biasu warstwy ukrytej wartości 'E_data' oraz 'E_recon'  "
   ]
  },
  {
   "cell_type": "code",
   "execution_count": null,
   "id": "45f2922c",
   "metadata": {},
   "outputs": [],
   "source": [
    "import numpy as np\n",
    "\n",
    "class RBM:\n",
    "    def __init__(self, no_v, no_h):\n",
    "        self.wagi = np.random.random((no_v, no_h))\n",
    "        self.b = np.random.random(no_v)\n",
    "        self.c = np.random.random(no_h)\n",
    "        \n",
    "    def Bernoullie(self, p):\n",
    "        return 1 if np.random.random() < p else 0\n",
    "\n",
    "    def sigmoid(self, s):\n",
    "        return 1 / (1 + np.exp(-s))\n",
    "\n",
    "    def activate_hidden_layer(self, v):\n",
    "        probabilities = self.sigmoid(np.dot(v, self.wagi) + self.c)\n",
    "        activations = np.array([self.Bernoullie(p) for p in probabilities])\n",
    "        return activations, probabilities\n",
    "\n",
    "    def activate_visible_layer(self, h):\n",
    "        probabilities = self.sigmoid(np.dot(h, self.wagi.T) + self.b)\n",
    "        activations = np.array([self.Bernoullie(p) for p in probabilities])\n",
    "        return activations, probabilities\n",
    "    \n",
    "    def CD(self, X, k=1):\n",
    "        E_data = np.zeros_like(self.wagi)\n",
    "        E_recon = np.zeros_like(self.wagi)\n",
    "        E_bv_data = np.zeros_like(self.b)\n",
    "        E_bv_recon = np.zeros_like(self.b)\n",
    "        E_bh_data = np.zeros_like(self.c)\n",
    "        E_bh_recon = np.zeros_like(self.c)\n",
    "        \n",
    "        for v in X:\n",
    "            # Positive phase\n",
    "            h0, ph0 = self.activate_hidden_layer(v)\n",
    "            E_data += np.outer(v, ph0)\n",
    "            E_bv_data += v\n",
    "            E_bh_data += ph0\n",
    "            \n",
    "            # Gibbs sampling\n",
    "            vk = v\n",
    "            for _ in range(k):\n",
    "                hk, _ = self.activate_hidden_layer(vk)\n",
    "                vk, _ = self.activate_visible_layer(hk)\n",
    "            \n",
    "            # Negative phase\n",
    "            hk, phk = self.activate_hidden_layer(vk)\n",
    "            E_recon += np.outer(vk, phk)\n",
    "            E_bv_recon += vk\n",
    "            E_bh_recon += phk\n",
    "        \n",
    "        # Normalize\n",
    "        n_samples = len(X)\n",
    "        E_data /= n_samples\n",
    "        E_recon /= n_samples\n",
    "        E_bv_data /= n_samples\n",
    "        E_bv_recon /= n_samples\n",
    "        E_bh_data /= n_samples\n",
    "        E_bh_recon /= n_samples\n",
    "        \n",
    "        return E_data, E_recon, E_bv_data, E_bv_recon, E_bh_data, E_bh_recon"
   ]
  },
  {
   "cell_type": "markdown",
   "id": "5a05a695",
   "metadata": {},
   "source": [
    "Napisz metodę fit realziujacą uczenie metodą spadku gradientu metodą mini-batchową, gdzie gradienty są liczone metodą contrastive divergency (CD). Metoda ma przyjmować parametry: zbiór uczący (X), liczba epok (epochs), wielkość mini-batcha (bs), liczba iteracji dla CD (k) oraz współczynnik uczenia (lr)."
   ]
  },
  {
   "cell_type": "code",
   "execution_count": 20,
   "id": "626b8bef",
   "metadata": {},
   "outputs": [],
   "source": [
    "import numpy as np\n",
    "\n",
    "class RBM:\n",
    "    def __init__(self, no_v, no_h):\n",
    "        self.wagi = np.random.random((no_v, no_h))\n",
    "        self.b = np.random.random(no_v)\n",
    "        self.c = np.random.random(no_h)\n",
    "        \n",
    "    def Bernoullie(self, p):\n",
    "        return 1 if np.random.random() < p else 0\n",
    "\n",
    "    def sigmoid(self, s):\n",
    "        return 1 / (1 + np.exp(-s))\n",
    "\n",
    "    def activate_hidden_layer(self, v):\n",
    "        probabilities = self.sigmoid(np.dot(v, self.wagi) + self.c)\n",
    "        activations = np.array([self.Bernoullie(p) for p in probabilities])\n",
    "        return activations, probabilities\n",
    "\n",
    "    def activate_visible_layer(self, h):\n",
    "        probabilities = self.sigmoid(np.dot(h, self.wagi.T) + self.b)\n",
    "        activations = np.array([self.Bernoullie(p) for p in probabilities])\n",
    "        return activations, probabilities\n",
    "    \n",
    "    def CD(self, X, k=1):\n",
    "        E_data = np.zeros_like(self.wagi)\n",
    "        E_recon = np.zeros_like(self.wagi)\n",
    "        E_bv_data = np.zeros_like(self.b)\n",
    "        E_bv_recon = np.zeros_like(self.b)\n",
    "        E_bh_data = np.zeros_like(self.c)\n",
    "        E_bh_recon = np.zeros_like(self.c)\n",
    "        \n",
    "        for v in X:\n",
    "            h0, ph0 = self.activate_hidden_layer(v)\n",
    "            E_data += np.outer(v, ph0)\n",
    "            E_bv_data += v\n",
    "            E_bh_data += ph0\n",
    "            \n",
    "            vk = v\n",
    "            for _ in range(k):\n",
    "                hk, _ = self.activate_hidden_layer(vk)\n",
    "                vk, _ = self.activate_visible_layer(hk)\n",
    "            \n",
    "            hk, phk = self.activate_hidden_layer(vk)\n",
    "            E_recon += np.outer(vk, phk)\n",
    "            E_bv_recon += vk\n",
    "            E_bh_recon += phk\n",
    "        \n",
    "        n_samples = len(X)\n",
    "        E_data /= n_samples\n",
    "        E_recon /= n_samples\n",
    "        E_bv_data /= n_samples\n",
    "        E_bv_recon /= n_samples\n",
    "        E_bh_data /= n_samples\n",
    "        E_bh_recon /= n_samples\n",
    "        \n",
    "        return E_data, E_recon, E_bv_data, E_bv_recon, E_bh_data, E_bh_recon\n",
    "\n",
    "    def fit(self, X, epochs=10, bs=10, k=1, lr=0.01):\n",
    "        n_samples = X.shape[0]\n",
    "        for epoch in range(epochs):\n",
    "            np.random.shuffle(X)\n",
    "            for i in range(0, n_samples, bs):\n",
    "                X_batch = X[i:i+bs]\n",
    "                E_data, E_recon, E_bv_data, E_bv_recon, E_bh_data, E_bh_recon = self.CD(X_batch, k)\n",
    "                \n",
    "                self.wagi += lr * (E_data - E_recon)\n",
    "                self.b += lr * (E_bv_data - E_bv_recon)\n",
    "                self.c += lr * (E_bh_data - E_bh_recon)"
   ]
  },
  {
   "cell_type": "markdown",
   "id": "2e5cf059",
   "metadata": {},
   "source": [
    "Napisz metodę obliczającą błąd rekonstrukcji 'recreate_error'. Metoda ma przyjmować jako parametr tablicę danych. Dla kolejnych elementów z tablicy ma być obliczana ich ukryta reprezentacja, a następnie na tej podstawie ma być ten element odtworzony przez sieć. \n",
    "Metoda ma zwracać błąd absolutny odtworzenia."
   ]
  },
  {
   "cell_type": "code",
   "execution_count": 21,
   "id": "e1ca06c9",
   "metadata": {},
   "outputs": [],
   "source": [
    "import numpy as np\n",
    "\n",
    "class RBM:\n",
    "    def __init__(self, no_v, no_h):\n",
    "        self.wagi = np.random.random((no_v, no_h))\n",
    "        self.b = np.random.random(no_v)\n",
    "        self.c = np.random.random(no_h)\n",
    "        \n",
    "    def Bernoullie(self, p):\n",
    "        return 1 if np.random.random() < p else 0\n",
    "\n",
    "    def sigmoid(self, s):\n",
    "        return 1 / (1 + np.exp(-s))\n",
    "\n",
    "    def activate_hidden_layer(self, v):\n",
    "        probabilities = self.sigmoid(np.dot(v, self.wagi) + self.c)\n",
    "        activations = np.array([self.Bernoullie(p) for p in probabilities])\n",
    "        return activations, probabilities\n",
    "\n",
    "    def activate_visible_layer(self, h):\n",
    "        probabilities = self.sigmoid(np.dot(h, self.wagi.T) + self.b)\n",
    "        activations = np.array([self.Bernoullie(p) for p in probabilities])\n",
    "        return activations, probabilities\n",
    "    \n",
    "    def CD(self, X, k=1):\n",
    "        E_data = np.zeros_like(self.wagi)\n",
    "        E_recon = np.zeros_like(self.wagi)\n",
    "        E_bv_data = np.zeros_like(self.b)\n",
    "        E_bv_recon = np.zeros_like(self.b)\n",
    "        E_bh_data = np.zeros_like(self.c)\n",
    "        E_bh_recon = np.zeros_like(self.c)\n",
    "        \n",
    "        for v in X:\n",
    "            h0, ph0 = self.activate_hidden_layer(v)\n",
    "            E_data += np.outer(v, ph0)\n",
    "            E_bv_data += v\n",
    "            E_bh_data += ph0\n",
    "            \n",
    "            vk = v\n",
    "            for _ in range(k):\n",
    "                hk, _ = self.activate_hidden_layer(vk)\n",
    "                vk, _ = self.activate_visible_layer(hk)\n",
    "            \n",
    "            hk, phk = self.activate_hidden_layer(vk)\n",
    "            E_recon += np.outer(vk, phk)\n",
    "            E_bv_recon += vk\n",
    "            E_bh_recon += phk\n",
    "        \n",
    "        n_samples = len(X)\n",
    "        E_data /= n_samples\n",
    "        E_recon /= n_samples\n",
    "        E_bv_data /= n_samples\n",
    "        E_bv_recon /= n_samples\n",
    "        E_bh_data /= n_samples\n",
    "        E_bh_recon /= n_samples\n",
    "        \n",
    "        return E_data, E_recon, E_bv_data, E_bv_recon, E_bh_data, E_bh_recon\n",
    "\n",
    "    def fit(self, X, epochs=10, bs=10, k=1, lr=0.01):\n",
    "        n_samples = X.shape[0]\n",
    "        for epoch in range(epochs):\n",
    "            np.random.shuffle(X)\n",
    "            for i in range(0, n_samples, bs):\n",
    "                X_batch = X[i:i+bs]\n",
    "                E_data, E_recon, E_bv_data, E_bv_recon, E_bh_data, E_bh_recon = self.CD(X_batch, k)\n",
    "                \n",
    "                self.wagi += lr * (E_data - E_recon)\n",
    "                self.b += lr * (E_bv_data - E_bv_recon)\n",
    "                self.c += lr * (E_bh_data - E_bh_recon)\n",
    "    \n",
    "    def recreate_error(self, X):\n",
    "        total_error = 0\n",
    "        for v in X:\n",
    "            _, ph = self.activate_hidden_layer(v)\n",
    "            _, pv = self.activate_visible_layer(ph)\n",
    "            total_error += np.sum(np.abs(v - pv))\n",
    "        return total_error / len(X)"
   ]
  },
  {
   "cell_type": "markdown",
   "id": "02e2db20",
   "metadata": {},
   "source": [
    "Wczytaj dane ze zbioru MNIST. Możesz to zrobić używając polecenia:\n",
    "\n",
    "from keras.datasets import mnist\n",
    "\n",
    "Następnie przetrasformuj dane tak, aby piksele były zakodowane jako wartości 0 lub 1 (np. użyj testu piksel>128). \n",
    "Wyświetl kilka obrazów."
   ]
  },
  {
   "cell_type": "code",
   "execution_count": 22,
   "id": "aca790a4",
   "metadata": {},
   "outputs": [
    {
     "data": {
      "image/png": "[encoded data removed]",
      "text/plain": [
       "<Figure size 640x480 with 1 Axes>"
      ]
     },
     "metadata": {},
     "output_type": "display_data"
    },
    {
     "data": {
      "image/png": "[encoded data removed]",
      "text/plain": [
       "<Figure size 640x480 with 1 Axes>"
      ]
     },
     "metadata": {},
     "output_type": "display_data"
    },
    {
     "data": {
      "image/png": "[encoded data removed]",
      "text/plain": [
       "<Figure size 640x480 with 1 Axes>"
      ]
     },
     "metadata": {},
     "output_type": "display_data"
    },
    {
     "data": {
      "image/png": "[encoded data removed]",
      "text/plain": [
       "<Figure size 640x480 with 1 Axes>"
      ]
     },
     "metadata": {},
     "output_type": "display_data"
    },
    {
     "data": {
      "image/png": "[encoded data removed]",
      "text/plain": [
       "<Figure size 640x480 with 1 Axes>"
      ]
     },
     "metadata": {},
     "output_type": "display_data"
    }
   ],
   "source": [
    "from keras.datasets import mnist\n",
    "\n",
    "(X, Y), (Xt, Yt) = mnist.load_data()\n",
    "\n",
    "X = X.reshape((X.shape[0], 28*28))\n",
    "X = np.asarray(X, dtype=float)\n",
    "Xt = Xt.reshape((Xt.shape[0], 28*28))\n",
    "Xt = np.asarray(Xt, dtype=float)\n",
    "X /= 255\n",
    "Xt /= 255\n",
    "X[X > 0.5] = 1\n",
    "X[X <= 0.5] = 0\n",
    "\n",
    "import matplotlib.pyplot as plt\n",
    "for i in range(5):\n",
    "    j = np.random.randint(len(X))\n",
    "    plt.imshow(X[j].reshape((28,28)))\n",
    "    plt.show()\n"
   ]
  },
  {
   "cell_type": "markdown",
   "id": "7b4e09e4",
   "metadata": {},
   "source": [
    "Utwórz model i naucz go na przygotowanych danych"
   ]
  },
  {
   "cell_type": "code",
   "execution_count": null,
   "id": "3ccd1c6b",
   "metadata": {},
   "outputs": [],
   "source": [
    "model = RBM(28*28, 100)\n",
    "model.fit(X, 10, lr=0.01)"
   ]
  },
  {
   "cell_type": "markdown",
   "id": "c92db1b7",
   "metadata": {},
   "source": [
    "Wyświetl koło siebie kilka przykładów obrazów ze zbioru danych i odtworzonych."
   ]
  },
  {
   "cell_type": "code",
   "execution_count": null,
   "id": "3acfc02d",
   "metadata": {},
   "outputs": [],
   "source": [
    "j = 3\n",
    "k=0\n",
    "for i in np.random.randint(0,len(X), j):\n",
    "  plt.subplot(j, 2, k*2+1)\n",
    "  x, _ = model.activate_hidden(X[i])\n",
    "  x, _ = model.activate_visible(x)\n",
    "  x = x.reshape((28, 28))\n",
    "  plt.imshow(x)\n",
    "  plt.xticks([])\n",
    "  plt.yticks([])\n",
    "  plt.subplot(j, 2, k*2+2)\n",
    "  plt.imshow(X[i].reshape((28,28)))\n",
    "  k += 1\n",
    "  plt.xticks([])\n",
    "  plt.yticks([])"
   ]
  }
 ],
 "metadata": {
  "kernelspec": {
   "display_name": "Python 3",
   "language": "python",
   "name": "python3"
  },
  "language_info": {
   "codemirror_mode": {
    "name": "ipython",
    "version": 3
   },
   "file_extension": ".py",
   "mimetype": "text/x-python",
   "name": "python",
   "nbconvert_exporter": "python",
   "pygments_lexer": "ipython3",
   "version": "3.12.2"
  }
 },
 "nbformat": 4,
 "nbformat_minor": 5
}
