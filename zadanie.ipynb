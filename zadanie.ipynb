{
 "cells": [
  {
   "cell_type": "markdown",
   "metadata": {},
   "source": [
    "Wczytanie danych"
   ]
  },
  {
   "cell_type": "code",
   "execution_count": null,
   "metadata": {},
   "outputs": [
    {
     "name": "stdout",
     "output_type": "stream",
     "text": [
      "   user_id  item_id  rating  timestamp\n",
      "0      196      242       3  881250949\n",
      "1      186      302       3  891717742\n",
      "2       22      377       1  878887116\n",
      "3      244       51       2  880606923\n",
      "4      166      346       1  886397596\n",
      "Liczba użytkowników: 943, Liczba filmów: 1682\n"
     ]
    }
   ],
   "source": [
    "import pandas as pd\n",
    "\n",
    "columns = ['user_id', 'item_id', 'rating', 'timestamp']\n",
    "ratings = pd.read_csv('ml-100k/u.data', sep='\\t', names=columns)\n",
    "\n",
    "print(ratings.head())\n",
    "\n",
    "\n",
    "ratings = ratings.drop('timestamp', axis=1)\n",
    "\n",
    "num_users = ratings['user_id'].nunique()\n",
    "num_items = ratings['item_id'].nunique()\n",
    "print(f\"Liczba użytkowników: {num_users}, Liczba filmów: {num_items}\")\n"
   ]
  },
  {
   "cell_type": "markdown",
   "metadata": {},
   "source": [
    "Tworzenie macierzy użytkownik-film:"
   ]
  },
  {
   "cell_type": "code",
   "execution_count": 3,
   "metadata": {},
   "outputs": [
    {
     "name": "stdout",
     "output_type": "stream",
     "text": [
      "item_id  1     2     3     4     5     6     7     8     9     10    ...  \\\n",
      "user_id                                                              ...   \n",
      "1         5.0   3.0   4.0   3.0   3.0   5.0   4.0   1.0   5.0   3.0  ...   \n",
      "2         4.0   NaN   NaN   NaN   NaN   NaN   NaN   NaN   NaN   2.0  ...   \n",
      "3         NaN   NaN   NaN   NaN   NaN   NaN   NaN   NaN   NaN   NaN  ...   \n",
      "4         NaN   NaN   NaN   NaN   NaN   NaN   NaN   NaN   NaN   NaN  ...   \n",
      "5         4.0   3.0   NaN   NaN   NaN   NaN   NaN   NaN   NaN   NaN  ...   \n",
      "\n",
      "item_id  1673  1674  1675  1676  1677  1678  1679  1680  1681  1682  \n",
      "user_id                                                              \n",
      "1         NaN   NaN   NaN   NaN   NaN   NaN   NaN   NaN   NaN   NaN  \n",
      "2         NaN   NaN   NaN   NaN   NaN   NaN   NaN   NaN   NaN   NaN  \n",
      "3         NaN   NaN   NaN   NaN   NaN   NaN   NaN   NaN   NaN   NaN  \n",
      "4         NaN   NaN   NaN   NaN   NaN   NaN   NaN   NaN   NaN   NaN  \n",
      "5         NaN   NaN   NaN   NaN   NaN   NaN   NaN   NaN   NaN   NaN  \n",
      "\n",
      "[5 rows x 1682 columns]\n"
     ]
    }
   ],
   "source": [
    "user_item_matrix = ratings.pivot(index='user_id', columns='item_id', values='rating')\n",
    "\n",
    "# Podgląd macierzy\n",
    "print(user_item_matrix.head())\n",
    "\n",
    "# Zapisanie macierzy do pliku CSV\n",
    "user_item_matrix.to_csv('user_item_matrix.csv')\n"
   ]
  },
  {
   "cell_type": "markdown",
   "metadata": {},
   "source": [
    "Sprawdzenie danych:"
   ]
  },
  {
   "cell_type": "code",
   "execution_count": 4,
   "metadata": {},
   "outputs": [
    {
     "name": "stdout",
     "output_type": "stream",
     "text": [
      "1486126\n"
     ]
    }
   ],
   "source": [
    "print(user_item_matrix.isna().sum().sum())\n"
   ]
  },
  {
   "cell_type": "markdown",
   "metadata": {},
   "source": [
    "Opcjonalna normlaizacja ocen"
   ]
  },
  {
   "cell_type": "code",
   "execution_count": 5,
   "metadata": {},
   "outputs": [],
   "source": [
    "user_item_matrix_normalized = user_item_matrix.subtract(user_item_matrix.mean(axis=1), axis=0)\n"
   ]
  },
  {
   "cell_type": "markdown",
   "metadata": {},
   "source": [
    "Przykład faktoryzacji macierzy"
   ]
  },
  {
   "cell_type": "code",
   "execution_count": null,
   "metadata": {},
   "outputs": [
    {
     "name": "stdout",
     "output_type": "stream",
     "text": [
      "Epoch 1/100, Loss: 495926.8170\n",
      "Epoch 2/100, Loss: 121979.9677\n",
      "Epoch 3/100, Loss: 99580.0068\n",
      "Epoch 4/100, Loss: 94574.3085\n",
      "Epoch 5/100, Loss: 92290.0073\n",
      "Epoch 6/100, Loss: 90913.9078\n"
     ]
    }
   ],
   "source": [
    "import numpy as np\n",
    "\n",
    "# Ustawienia\n",
    "num_users, num_items = user_item_matrix.shape\n",
    "num_features = 10  # Liczba ukrytych wymiarów\n",
    "learning_rate = 0.01\n",
    "reg_param = 0.1  # Parametr regularyzacji\n",
    "epochs = 100\n",
    "\n",
    "# Inicjalizacja macierzy P i Q\n",
    "P = np.random.normal(scale=1./num_features, size=(num_users, num_features))\n",
    "Q = np.random.normal(scale=1./num_features, size=(num_items, num_features))\n",
    "\n",
    "# Konwersja macierzy na NumPy\n",
    "ratings = user_item_matrix.to_numpy()\n",
    "\n",
    "# SGD\n",
    "for epoch in range(epochs):\n",
    "    for i in range(num_users):\n",
    "        for j in range(num_items):\n",
    "            if not np.isnan(ratings[i, j]):\n",
    "                error = ratings[i, j] - np.dot(P[i, :], Q[j, :].T)\n",
    "                for k in range(num_features):\n",
    "                    P[i, k] += learning_rate * (error * Q[j, k] - reg_param * P[i, k])\n",
    "                    Q[j, k] += learning_rate * (error * P[i, k] - reg_param * Q[j, k])\n",
    "\n",
    "    # Obliczanie straty \n",
    "    loss = 0\n",
    "    for i in range(num_users):\n",
    "        for j in range(num_items):\n",
    "            if not np.isnan(ratings[i, j]):\n",
    "                loss += (ratings[i, j] - np.dot(P[i, :], Q[j, :].T))**2\n",
    "    print(f\"Epoch {epoch + 1}/{epochs}, Loss: {loss:.4f}\")\n",
    "\n",
    "# Wynikowa macierz\n",
    "predicted_ratings = np.dot(P, Q.T)\n"
   ]
  }
 ],
 "metadata": {
  "kernelspec": {
   "display_name": "Python 3",
   "language": "python",
   "name": "python3"
  },
  "language_info": {
   "codemirror_mode": {
    "name": "ipython",
    "version": 3
   },
   "file_extension": ".py",
   "mimetype": "text/x-python",
   "name": "python",
   "nbconvert_exporter": "python",
   "pygments_lexer": "ipython3",
   "version": "3.12.2"
  }
 },
 "nbformat": 4,
 "nbformat_minor": 2
}
